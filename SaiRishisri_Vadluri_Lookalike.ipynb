{
  "nbformat": 4,
  "nbformat_minor": 0,
  "metadata": {
    "colab": {
      "provenance": []
    },
    "kernelspec": {
      "name": "python3",
      "display_name": "Python 3"
    },
    "language_info": {
      "name": "python"
    }
  },
  "cells": [
    {
      "cell_type": "code",
      "source": [
        "# Import required libraries\n",
        "import pandas as pd\n",
        "import numpy as np\n",
        "from sklearn.metrics.pairwise import cosine_similarity\n",
        "from sklearn.preprocessing import StandardScaler"
      ],
      "metadata": {
        "id": "KucnTp-n9uVo"
      },
      "execution_count": null,
      "outputs": []
    },
    {
      "cell_type": "code",
      "execution_count": null,
      "metadata": {
        "id": "DosBG13_8ezs"
      },
      "outputs": [],
      "source": [
        "# Load datasets\n",
        "customers = pd.read_csv(\"Customers.csv\")\n",
        "transactions = pd.read_csv(\"Transactions.csv\")\n",
        "products = pd.read_csv(\"Products.csv\")\n",
        "\n",
        "# Merge datasets for analysis\n",
        "data = transactions.merge(customers, on=\"CustomerID\").merge(products, on=\"ProductID\")"
      ]
    },
    {
      "cell_type": "code",
      "source": [
        "\n",
        "# Data preparation: Feature extraction\n",
        "# Calculate total spend, average spend, and product preferences per customer\n",
        "customer_features = data.groupby(\"CustomerID\").agg(\n",
        "    TotalSpent=(\"TotalValue\", \"sum\"),\n",
        "    AvgSpend=(\"TotalValue\", \"mean\"),\n",
        "    TransactionCount=(\"TransactionID\", \"count\"),\n",
        ").reset_index()\n",
        "\n",
        "# Pivot table for product preferences (CustomerID vs ProductName)\n",
        "product_pivot = data.pivot_table(index=\"CustomerID\", columns=\"ProductName\", values=\"Quantity\", fill_value=0)\n",
        "\n",
        "# Combine numerical features and product preferences\n",
        "combined_features = customer_features.merge(product_pivot, on=\"CustomerID\")\n",
        "combined_features.set_index(\"CustomerID\", inplace=True)\n",
        "\n",
        "# Normalize the data for similarity calculation\n",
        "scaler = StandardScaler()\n",
        "normalized_features = scaler.fit_transform(combined_features)\n",
        "\n",
        "# Calculate cosine similarity\n",
        "similarity_matrix = cosine_similarity(normalized_features)"
      ],
      "metadata": {
        "id": "NtMOXeP79ytm"
      },
      "execution_count": null,
      "outputs": []
    },
    {
      "cell_type": "code",
      "source": [
        "\n",
        "# Function to get top 3 lookalike customers\n",
        "def get_top_3_similar(customers_list, similarity_matrix, customer_ids):\n",
        "    lookalike_dict = {}\n",
        "    for idx in customers_list:\n",
        "        similarities = similarity_matrix[idx]\n",
        "        similar_customers = sorted(\n",
        "            [(customer_ids[i], score) for i, score in enumerate(similarities) if i != idx],\n",
        "            key=lambda x: -x[1],\n",
        "        )[:3]\n",
        "        lookalike_dict[customer_ids[idx]] = similar_customers\n",
        "    return lookalike_dict\n",
        "\n",
        "# Get top 3 lookalikes for the first 20 customers\n",
        "customer_ids = combined_features.index.tolist()\n",
        "lookalikes = get_top_3_similar(range(20), similarity_matrix, customer_ids)\n",
        "\n",
        "# Convert lookalikes to a CSV-compatible format\n",
        "lookalike_list = []\n",
        "for customer, similar_customers in lookalikes.items():\n",
        "    lookalike_entry = {\n",
        "        \"CustomerID\": customer,\n",
        "        \"Lookalikes\": [\n",
        "            {\"SimilarCustomerID\": similar_customer[0], \"SimilarityScore\": similar_customer[1]}\n",
        "            for similar_customer in similar_customers\n",
        "        ],\n",
        "    }\n",
        "    lookalike_list.append(\n",
        "        {\n",
        "            \"CustomerID\": customer,\n",
        "            \"Lookalikes\": str(\n",
        "                [(entry[\"SimilarCustomerID\"], round(entry[\"SimilarityScore\"], 2)) for entry in lookalike_entry[\"Lookalikes\"]]\n",
        "            ),\n",
        "        }\n",
        "    )\n"
      ],
      "metadata": {
        "id": "VUufwXGt92dr"
      },
      "execution_count": null,
      "outputs": []
    },
    {
      "cell_type": "code",
      "source": [
        "# Save results to a CSV\n",
        "lookalike_df = pd.DataFrame(lookalike_list)\n",
        "lookalike_df.to_csv(\"SaiRishisri_Vadluri_Lookalike.csv\", index=False)\n",
        "\n",
        "print(\"Lookalike results saved to SaiRishisri_Vadluri_Lookalike.csv.\")"
      ],
      "metadata": {
        "colab": {
          "base_uri": "https://localhost:8080/"
        },
        "id": "g629DDwC94hD",
        "outputId": "b600de58-5589-45b5-a4e7-552c24b303ed"
      },
      "execution_count": null,
      "outputs": [
        {
          "output_type": "stream",
          "name": "stdout",
          "text": [
            "Lookalike results saved to SaiRishisri_Vadluri_Lookalike.csv.\n"
          ]
        }
      ]
    }
  ]
}